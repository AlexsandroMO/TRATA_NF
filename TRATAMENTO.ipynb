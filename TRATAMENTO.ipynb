{
 "cells": [
  {
   "cell_type": "code",
   "execution_count": null,
   "metadata": {},
   "outputs": [],
   "source": [
    "!pip install pandas\n",
    "!pip install numpy\n",
    "!pip install openpyxl\n",
    "!pip install xlsxwriter"
   ]
  },
  {
   "cell_type": "code",
   "execution_count": 9,
   "metadata": {},
   "outputs": [],
   "source": [
    "import xlsxwriter\n",
    "import pandas as pd\n",
    "import numpy as np\n",
    "import openpyxl\n",
    "import re"
   ]
  },
  {
   "cell_type": "code",
   "execution_count": 13,
   "metadata": {},
   "outputs": [
    {
     "name": "stdout",
     "output_type": "stream",
     "text": [
      "Mal feito, feito!\n"
     ]
    }
   ],
   "source": [
    "df_B05 = pd.read_excel('DataProcessing/B05.xlsx','SEARCH')\n",
    "df_NCR_DB = pd.read_excel('DataProcessing/DB_NCR_CQ.xlsx')\n",
    "df_NCR_PROD = pd.read_excel('DataProcessing/DB_NCR_CQ.xlsx', 'PROD')\n",
    "df_NCR_EXP = pd.read_excel('DataProcessing/Export_NCR-CQ.xlsx')\n",
    "df_REGRESS = pd.read_excel('DataProcessing/Export_NCR-REGRESS.xlsx')\n",
    "df_B05_AC = pd.read_excel('DataProcessing/B05.xlsx','AC')\n",
    "df_DQR = pd.read_excel('DataProcessing/DQR_STATS.xlsx')\n",
    "\n",
    "df_B05.fillna('-',inplace=True)\n",
    "df_NCR_DB.fillna('-',inplace=True)\n",
    "df_NCR_PROD.fillna('-',inplace=True)\n",
    "df_DQR.fillna('-',inplace=True)\n",
    "\n",
    "ncr = []\n",
    "for a in df_NCR_DB.index:\n",
    "    for b in df_B05['SLEEV']:\n",
    "        if b in df_NCR_DB['Descrição'].loc[a]:\n",
    "           ncr.append([df_NCR_DB['Número NCR'].loc[a], b])\n",
    "        if b in df_NCR_DB['Deliberação N1'].loc[a]:\n",
    "           ncr.append([df_NCR_DB['Número NCR'].loc[a], b])\n",
    "        if b in df_NCR_DB['Deliberação N2'].loc[a]:\n",
    "           ncr.append([df_NCR_DB['Número NCR'].loc[a], b])\n",
    "        if b in df_NCR_DB['Deliberação N3'].loc[a]:\n",
    "           ncr.append([df_NCR_DB['Número NCR'].loc[a], b])\n",
    "\n",
    "for a in df_NCR_PROD.index:\n",
    "    for b in df_B05['PM']:\n",
    "        if b in df_NCR_PROD['Produto'].loc[a]:\n",
    "           ncr.append([df_NCR_PROD['Número NCR'].loc[a], df_NCR_PROD['IM'].loc[a]])\n",
    "\n",
    "df_read = pd.DataFrame(data=ncr,columns=['NCR','IM'])\n",
    "df_read['STATUS_NCR'] = '-'\n",
    "#df_read['STATUS_DQR'] = '-'\n",
    "\n",
    "for a in df_NCR_DB.index:\n",
    "    for b in df_read.index:\n",
    "        if df_read['NCR'].loc[b] == df_NCR_DB['Número NCR'].loc[a]:\n",
    "            df_read['STATUS_NCR'].loc[b] = df_NCR_DB['Status'].loc[a]\n",
    "\n",
    "df1 =  df_read[df_read['IM'] != '-'].groupby(['NCR','IM','STATUS_NCR']).count()\n",
    "df2 =  df_read[df_read['IM'] != '-'].groupby(['IM','NCR','STATUS_NCR']).count()\n",
    "\n",
    "writer = pd.ExcelWriter('AC_NCR_SEARCHED.xlsx', engine='xlsxwriter')\n",
    "df1.to_excel(writer, sheet_name='BY_NCR')\n",
    "df2.to_excel(writer, sheet_name='BY_IM')\n",
    "writer.save()\n",
    "\n",
    "print('Mal feito, feito!')"
   ]
  },
  {
   "cell_type": "code",
   "execution_count": null,
   "metadata": {},
   "outputs": [],
   "source": []
  }
 ],
 "metadata": {
  "interpreter": {
   "hash": "625c31d6b4db3d7e7e2853cc30dc2062e1cda684f3e49d5f899ae496ae755fe0"
  },
  "kernelspec": {
   "display_name": "Python 3 (ipykernel)",
   "language": "python",
   "name": "python3"
  },
  "language_info": {
   "codemirror_mode": {
    "name": "ipython",
    "version": 3
   },
   "file_extension": ".py",
   "mimetype": "text/x-python",
   "name": "python",
   "nbconvert_exporter": "python",
   "pygments_lexer": "ipython3",
   "version": "3.9.1"
  }
 },
 "nbformat": 4,
 "nbformat_minor": 4
}