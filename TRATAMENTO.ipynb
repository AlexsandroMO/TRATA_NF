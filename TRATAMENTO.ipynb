{
 "cells": [
  {
   "cell_type": "code",
   "execution_count": null,
   "metadata": {},
   "outputs": [],
   "source": [
    "!pip install pandas\n",
    "!pip install numpy\n",
    "!pip install openpyxl"
   ]
  },
  {
   "cell_type": "code",
   "execution_count": 1,
   "metadata": {},
   "outputs": [],
   "source": [
    "import pandas as pd\n",
    "import numpy as np\n",
    "import openpyxl"
   ]
  },
  {
   "cell_type": "code",
   "execution_count": 3,
   "metadata": {},
   "outputs": [],
   "source": [
    "df_B05 = pd.read_excel('DataProcessing/B05.xlsx','SEARCH')\n",
    "df_NCR_DB = pd.read_excel('DataProcessing/DB_NCR_CQ.xlsx')\n",
    "df_NCR_EXP = pd.read_excel('DataProcessing/Export_NCR-CQ.xlsx')\n",
    "df_REGRESS = pd.read_excel('DataProcessing/Export_NCR-REGRESS.xlsx')"
   ]
  },
  {
   "cell_type": "code",
   "execution_count": null,
   "metadata": {},
   "outputs": [],
   "source": [
    "for a in df_NCR_DB.index:\n",
    "  print(df_NCR_DB.loc[a])"
   ]
  },
  {
   "cell_type": "code",
   "execution_count": null,
   "metadata": {},
   "outputs": [],
   "source": [
    "x = []\n",
    "for a in df_NCR_DB.index:\n",
    "    #print(df_NCR_DB['Número NCR'].loc[a])\n",
    "    #print(df_NCR_DB['Descrição'].loc[a])\n",
    "    x.append(df_NCR_DB['Descrição'].loc[a].find('AG00039'))"
   ]
  },
  {
   "cell_type": "code",
   "execution_count": null,
   "metadata": {},
   "outputs": [],
   "source": []
  }
 ],
 "metadata": {
  "interpreter": {
   "hash": "625c31d6b4db3d7e7e2853cc30dc2062e1cda684f3e49d5f899ae496ae755fe0"
  },
  "kernelspec": {
   "display_name": "Python 3 (ipykernel)",
   "language": "python",
   "name": "python3"
  },
  "language_info": {
   "codemirror_mode": {
    "name": "ipython",
    "version": 3
   },
   "file_extension": ".py",
   "mimetype": "text/x-python",
   "name": "python",
   "nbconvert_exporter": "python",
   "pygments_lexer": "ipython3",
   "version": "3.9.1"
  }
 },
 "nbformat": 4,
 "nbformat_minor": 4
}